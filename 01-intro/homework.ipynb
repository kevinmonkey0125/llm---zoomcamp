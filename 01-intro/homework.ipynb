{
 "cells": [
  {
   "cell_type": "code",
   "execution_count": 1,
   "id": "d36ee012-195f-4304-993f-cc1b2fc0accd",
   "metadata": {},
   "outputs": [],
   "source": [
    "import openai"
   ]
  },
  {
   "cell_type": "code",
   "execution_count": 3,
   "id": "8ec4e108-0f6d-4523-9930-3fd8fe58e443",
   "metadata": {},
   "outputs": [],
   "source": [
    "from openai import OpenAI"
   ]
  },
  {
   "cell_type": "code",
   "execution_count": null,
   "id": "75f24027-f115-4925-9e81-b60197127402",
   "metadata": {},
   "outputs": [],
   "source": [
    "client = OpenAI(api_key='')"
   ]
  },
  {
   "cell_type": "code",
   "execution_count": 13,
   "id": "fed53de6-67bd-4c8f-b425-aadc54a9a64f",
   "metadata": {},
   "outputs": [],
   "source": [
    "response = client.chat.completions.create(\n",
    "    model=\"gpt-4o\",\n",
    "    messages=[\n",
    "        {\"role\": \"user\", \"content\": \"is it too late to join the course?\"}\n",
    "    ]\n",
    ")"
   ]
  },
  {
   "cell_type": "code",
   "execution_count": 19,
   "id": "ae1f7b89-4229-4f71-bbaf-9cd3b001e244",
   "metadata": {},
   "outputs": [
    {
     "data": {
      "text/plain": [
       "\"I'm not sure which course you're referring to, but typically, the ability to join a course depends on several factors such as the enrollment deadline, course start date, and whether the course allows late admissions. Here are a few steps you can take:\\n\\n1. **Check the Course Website:** Look for any information about enrollment deadlines and late registration policies.\\n   \\n2. **Contact the Instructor or Administration:** Reach out directly to the course instructor or the administration office to inquire about late enrollment opportunities.\\n\\n3. **Consider Auditing:** Some courses might allow you to audit, which means you can participate without officially enrolling.\\n\\n4. **Look for Next Offering:** If it's too late for this session, find out when the course will be offered again.\\n\\nIf you provide more specifics, I might be able to offer more targeted advice!\""
      ]
     },
     "execution_count": 19,
     "metadata": {},
     "output_type": "execute_result"
    }
   ],
   "source": [
    "response.choices[0].message.content"
   ]
  },
  {
   "cell_type": "code",
   "execution_count": null,
   "id": "a4faa7c3-bc64-4d86-a59c-8bbb35f683d8",
   "metadata": {},
   "outputs": [],
   "source": []
  }
 ],
 "metadata": {
  "kernelspec": {
   "display_name": "Python 3 (ipykernel)",
   "language": "python",
   "name": "python3"
  },
  "language_info": {
   "codemirror_mode": {
    "name": "ipython",
    "version": 3
   },
   "file_extension": ".py",
   "mimetype": "text/x-python",
   "name": "python",
   "nbconvert_exporter": "python",
   "pygments_lexer": "ipython3",
   "version": "3.12.1"
  }
 },
 "nbformat": 4,
 "nbformat_minor": 5
}
